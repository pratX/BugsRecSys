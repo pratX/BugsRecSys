{
 "cells": [
  {
   "cell_type": "code",
   "execution_count": 1,
   "metadata": {},
   "outputs": [],
   "source": [
    "import numpy as np\n",
    "import pandas as pd\n",
    "import torch\n",
    "\n",
    "from pathlib import Path"
   ]
  },
  {
   "cell_type": "code",
   "execution_count": 3,
   "metadata": {},
   "outputs": [],
   "source": [
    "path = Path(\"data/ml-1m\")"
   ]
  },
  {
   "cell_type": "code",
   "execution_count": 4,
   "metadata": {},
   "outputs": [
    {
     "data": {
      "text/plain": [
       "[PosixPath('data/ml-1m/README'),\n",
       " PosixPath('data/ml-1m/users.dat'),\n",
       " PosixPath('data/ml-1m/movies.dat'),\n",
       " PosixPath('data/ml-1m/ratings.dat')]"
      ]
     },
     "execution_count": 4,
     "metadata": {},
     "output_type": "execute_result"
    }
   ],
   "source": [
    "list(path.iterdir())"
   ]
  },
  {
   "cell_type": "code",
   "execution_count": 5,
   "metadata": {},
   "outputs": [
    {
     "data": {
      "text/plain": [
       "'data/ml-1m/ratings.dat'"
      ]
     },
     "execution_count": 5,
     "metadata": {},
     "output_type": "execute_result"
    }
   ],
   "source": [
    "str(path/\"ratings.dat\")"
   ]
  },
  {
   "cell_type": "code",
   "execution_count": 6,
   "metadata": {},
   "outputs": [
    {
     "name": "stderr",
     "output_type": "stream",
     "text": [
      "/home/pratik/anaconda3/envs/env1/lib/python3.6/site-packages/ipykernel_launcher.py:1: ParserWarning: Falling back to the 'python' engine because the 'c' engine does not support regex separators (separators > 1 char and different from '\\s+' are interpreted as regex); you can avoid this warning by specifying engine='python'.\n",
      "  \"\"\"Entry point for launching an IPython kernel.\n"
     ]
    }
   ],
   "source": [
    "ratings = pd.read_csv(str(path/\"ratings.dat\"), sep=\"::\", header=None, names=[\"uid\", \"mid\", \"rating\", \"ts\"])"
   ]
  },
  {
   "cell_type": "code",
   "execution_count": 7,
   "metadata": {},
   "outputs": [
    {
     "data": {
      "text/plain": [
       "uid       int64\n",
       "mid       int64\n",
       "rating    int64\n",
       "ts        int64\n",
       "dtype: object"
      ]
     },
     "execution_count": 7,
     "metadata": {},
     "output_type": "execute_result"
    }
   ],
   "source": [
    "ratings.dtypes"
   ]
  },
  {
   "cell_type": "code",
   "execution_count": 8,
   "metadata": {},
   "outputs": [
    {
     "name": "stderr",
     "output_type": "stream",
     "text": [
      "/home/pratik/anaconda3/envs/env1/lib/python3.6/site-packages/ipykernel_launcher.py:1: ParserWarning: Falling back to the 'python' engine because the 'c' engine does not support regex separators (separators > 1 char and different from '\\s+' are interpreted as regex); you can avoid this warning by specifying engine='python'.\n",
      "  \"\"\"Entry point for launching an IPython kernel.\n"
     ]
    }
   ],
   "source": [
    "users = pd.read_csv(str(path/\"users.dat\"), sep=\"::\", header=None, names=[\"uid\", \"gender\", \"age\", \"occupation\", \"zip_code\"])"
   ]
  },
  {
   "cell_type": "code",
   "execution_count": 9,
   "metadata": {},
   "outputs": [
    {
     "data": {
      "text/plain": [
       "uid            int64\n",
       "gender        object\n",
       "age            int64\n",
       "occupation     int64\n",
       "zip_code      object\n",
       "dtype: object"
      ]
     },
     "execution_count": 9,
     "metadata": {},
     "output_type": "execute_result"
    }
   ],
   "source": [
    "users.dtypes"
   ]
  },
  {
   "cell_type": "code",
   "execution_count": 10,
   "metadata": {},
   "outputs": [
    {
     "name": "stderr",
     "output_type": "stream",
     "text": [
      "/home/pratik/anaconda3/envs/env1/lib/python3.6/site-packages/ipykernel_launcher.py:1: ParserWarning: Falling back to the 'python' engine because the 'c' engine does not support regex separators (separators > 1 char and different from '\\s+' are interpreted as regex); you can avoid this warning by specifying engine='python'.\n",
      "  \"\"\"Entry point for launching an IPython kernel.\n"
     ]
    }
   ],
   "source": [
    "movies = pd.read_csv(str(path/\"movies.dat\"), sep=\"::\", header=None, names=[\"mid\", \"title\", \"genre\"])"
   ]
  },
  {
   "cell_type": "code",
   "execution_count": 11,
   "metadata": {},
   "outputs": [
    {
     "data": {
      "text/plain": [
       "mid       int64\n",
       "title    object\n",
       "genre    object\n",
       "dtype: object"
      ]
     },
     "execution_count": 11,
     "metadata": {},
     "output_type": "execute_result"
    }
   ],
   "source": [
    "movies.dtypes"
   ]
  },
  {
   "cell_type": "code",
   "execution_count": 12,
   "metadata": {},
   "outputs": [],
   "source": [
    "uids = users.uid.unique()"
   ]
  },
  {
   "cell_type": "code",
   "execution_count": 13,
   "metadata": {},
   "outputs": [],
   "source": [
    "mids = movies.mid.unique()"
   ]
  },
  {
   "cell_type": "code",
   "execution_count": 14,
   "metadata": {},
   "outputs": [],
   "source": [
    "uid_idx = {uid:idx  for idx,uid in enumerate(uids)}"
   ]
  },
  {
   "cell_type": "code",
   "execution_count": 15,
   "metadata": {},
   "outputs": [],
   "source": [
    "mid_idx = {mid:idx for idx,mid in enumerate(mids)}"
   ]
  },
  {
   "cell_type": "code",
   "execution_count": 169,
   "metadata": {},
   "outputs": [
    {
     "data": {
      "text/plain": [
       "0"
      ]
     },
     "execution_count": 169,
     "metadata": {},
     "output_type": "execute_result"
    }
   ],
   "source": [
    "int(0.5)"
   ]
  },
  {
   "cell_type": "code",
   "execution_count": 188,
   "metadata": {},
   "outputs": [],
   "source": [
    "val_idxs = np.random.randint(low=0, high=len(ratings), size=int(0.2*len(ratings)))"
   ]
  },
  {
   "cell_type": "code",
   "execution_count": 189,
   "metadata": {},
   "outputs": [],
   "source": [
    "ratings_idxs = np.array([False]*len(ratings))"
   ]
  },
  {
   "cell_type": "code",
   "execution_count": 190,
   "metadata": {},
   "outputs": [],
   "source": [
    "ratings_idxs[val_idxs] = True"
   ]
  },
  {
   "cell_type": "code",
   "execution_count": 191,
   "metadata": {},
   "outputs": [],
   "source": [
    "ratings_trn_arr = ratings.iloc[~ratings_idxs,:3].values"
   ]
  },
  {
   "cell_type": "code",
   "execution_count": 192,
   "metadata": {},
   "outputs": [],
   "source": [
    "ratings_val_arr = ratings.iloc[ratings_idxs,:3].values"
   ]
  },
  {
   "cell_type": "code",
   "execution_count": 194,
   "metadata": {
    "scrolled": true
   },
   "outputs": [
    {
     "data": {
      "text/html": [
       "<div>\n",
       "<style scoped>\n",
       "    .dataframe tbody tr th:only-of-type {\n",
       "        vertical-align: middle;\n",
       "    }\n",
       "\n",
       "    .dataframe tbody tr th {\n",
       "        vertical-align: top;\n",
       "    }\n",
       "\n",
       "    .dataframe thead th {\n",
       "        text-align: right;\n",
       "    }\n",
       "</style>\n",
       "<table border=\"1\" class=\"dataframe\">\n",
       "  <thead>\n",
       "    <tr style=\"text-align: right;\">\n",
       "      <th></th>\n",
       "      <th>uid</th>\n",
       "      <th>mid</th>\n",
       "      <th>rating</th>\n",
       "      <th>ts</th>\n",
       "    </tr>\n",
       "  </thead>\n",
       "  <tbody>\n",
       "    <tr>\n",
       "      <th>0</th>\n",
       "      <td>1</td>\n",
       "      <td>1193</td>\n",
       "      <td>5</td>\n",
       "      <td>978300760</td>\n",
       "    </tr>\n",
       "    <tr>\n",
       "      <th>1</th>\n",
       "      <td>1</td>\n",
       "      <td>661</td>\n",
       "      <td>3</td>\n",
       "      <td>978302109</td>\n",
       "    </tr>\n",
       "    <tr>\n",
       "      <th>2</th>\n",
       "      <td>1</td>\n",
       "      <td>914</td>\n",
       "      <td>3</td>\n",
       "      <td>978301968</td>\n",
       "    </tr>\n",
       "    <tr>\n",
       "      <th>3</th>\n",
       "      <td>1</td>\n",
       "      <td>3408</td>\n",
       "      <td>4</td>\n",
       "      <td>978300275</td>\n",
       "    </tr>\n",
       "    <tr>\n",
       "      <th>4</th>\n",
       "      <td>1</td>\n",
       "      <td>2355</td>\n",
       "      <td>5</td>\n",
       "      <td>978824291</td>\n",
       "    </tr>\n",
       "  </tbody>\n",
       "</table>\n",
       "</div>"
      ],
      "text/plain": [
       "   uid   mid  rating         ts\n",
       "0    1  1193       5  978300760\n",
       "1    1   661       3  978302109\n",
       "2    1   914       3  978301968\n",
       "3    1  3408       4  978300275\n",
       "4    1  2355       5  978824291"
      ]
     },
     "execution_count": 194,
     "metadata": {},
     "output_type": "execute_result"
    }
   ],
   "source": [
    "ratings.head()"
   ]
  },
  {
   "cell_type": "code",
   "execution_count": 193,
   "metadata": {},
   "outputs": [
    {
     "data": {
      "text/plain": [
       "((818967, 3), (181242, 3))"
      ]
     },
     "execution_count": 193,
     "metadata": {},
     "output_type": "execute_result"
    }
   ],
   "source": [
    "ratings_trn_arr.shape, ratings_val_arr.shape"
   ]
  },
  {
   "cell_type": "code",
   "execution_count": 195,
   "metadata": {},
   "outputs": [],
   "source": [
    "class MovieLensCfDataset():\n",
    "    def __init__(self, uid_idx, mid_idx, ratings):\n",
    "        self.uid_idx, self.mid_idx, self.ratings = uid_idx, mid_idx, ratings\n",
    "        \n",
    "    def __getitem__(self, index):\n",
    "        r = self.ratings[index]\n",
    "        uidx = self.uid_idx[r[0]]\n",
    "        midx = self.mid_idx[r[1]]\n",
    "        return np.array([uidx, midx, r[2]])\n",
    "    \n",
    "    def __len__(self):\n",
    "        return self.ratings.shape[0]"
   ]
  },
  {
   "cell_type": "code",
   "execution_count": 196,
   "metadata": {},
   "outputs": [],
   "source": [
    "mlcf_trn_ds = MovieLensCfDataset(uid_idx, mid_idx, ratings_trn_arr)"
   ]
  },
  {
   "cell_type": "code",
   "execution_count": 197,
   "metadata": {},
   "outputs": [
    {
     "data": {
      "text/plain": [
       "(array([  0, 590,   4]), 818967)"
      ]
     },
     "execution_count": 197,
     "metadata": {},
     "output_type": "execute_result"
    }
   ],
   "source": [
    "mlcf_trn_ds[5], len(mlcf_trn_ds)"
   ]
  },
  {
   "cell_type": "code",
   "execution_count": 198,
   "metadata": {},
   "outputs": [],
   "source": [
    "class MovieLensCfDataLoader():\n",
    "    def __init__(self, dataset, bs=128, shuffle=False):\n",
    "        self.dataset, self.bs = dataset, bs\n",
    "        if shuffle:\n",
    "            self.sampler = torch.utils.data.RandomSampler(dataset)\n",
    "        else:\n",
    "            self.sampler = torch.utils.data.SequentialSampler(dataset)\n",
    "        self.batch_sampler = torch.utils.data.BatchSampler(self.sampler, bs, False)\n",
    "    \n",
    "    def get_batch(self, idx_batch):\n",
    "        batch = []\n",
    "        for idx in idx_batch:\n",
    "            batch.append(self.dataset[idx])\n",
    "        batch = list(zip(*batch))\n",
    "        return [np.array(i) for i in batch]\n",
    "        \n",
    "    def get_tensor(self, batch):\n",
    "        t_batch = [torch.tensor(i).contiguous() for i in batch]\n",
    "        t_batch[-1] = t_batch[-1].float().contiguous()\n",
    "        return t_batch\n",
    "        \n",
    "    def __iter__(self):\n",
    "        for idx_batch in self.batch_sampler:\n",
    "            yield self.get_tensor(self.get_batch(idx_batch))\n",
    "            \n",
    "    def __len__(self):\n",
    "        return len(self.batch_sampler)"
   ]
  },
  {
   "cell_type": "code",
   "execution_count": 199,
   "metadata": {},
   "outputs": [],
   "source": [
    "mlcf_trn_dl = MovieLensCfDataLoader(mlcf_trn_ds, shuffle=True)"
   ]
  },
  {
   "cell_type": "code",
   "execution_count": 200,
   "metadata": {},
   "outputs": [],
   "source": [
    "l = next(iter(mlcf_trn_dl))"
   ]
  },
  {
   "cell_type": "code",
   "execution_count": 201,
   "metadata": {},
   "outputs": [
    {
     "data": {
      "text/plain": [
       "[tensor([3891, 3829, 3560, 2465, 1640, 2859, 5602, 3595, 2109, 4028,  918, 2163,\n",
       "         4468, 4807, 3591, 5537, 2119, 4489, 1338, 1775, 2348, 1613, 4993, 6034,\n",
       "         5837, 3229, 1836, 1183, 4586, 1544, 1271, 2224,  423,  727, 6009, 5519,\n",
       "         5666, 4421, 5830,  945, 5111,  111, 3617, 2254,  523, 5252, 5436, 5082,\n",
       "         4982, 3568, 1242, 1883, 3303, 2345, 2070, 2909, 4693, 4419,  352, 3092,\n",
       "          854, 4057, 4185, 1062, 3991, 5440, 3599, 4840, 2287, 2972, 1284, 4864,\n",
       "         4587, 2594, 4225,  586, 5325, 4084, 5584, 3518, 5053, 2155, 2010, 3289,\n",
       "         4897, 3841, 5884, 1135,  156, 2638, 3922, 1684, 3848, 3754, 1841, 4403,\n",
       "         5557, 3840, 4880, 5165, 5107, 4783, 3756, 2278, 5131,   53,   12, 2096,\n",
       "         1836, 2260, 4417, 4898, 1218,  604, 4261, 1888, 5043, 3525, 1501, 4746,\n",
       "         2822, 1208, 1740, 2885, 4456, 2184, 1756, 3899]),\n",
       " tensor([ 102, 3686, 2078,  655,  314, 1238,  952, 1196, 1271, 3110, 1178, 1243,\n",
       "         1896, 1957,  139, 3606, 3412,  585,  513, 3878, 3742, 1944, 3193, 1562,\n",
       "         1244, 3091, 1813, 2085, 3554,  108,   20, 3483, 3858, 2193, 2314, 1568,\n",
       "         1245, 2246, 2466,  907, 1881, 1232, 2679, 2832, 3624,  901, 1373, 2335,\n",
       "         1019, 1249,  108, 1069,  896,  773,  588,  353, 2559, 2867,  604, 3467,\n",
       "         3323, 3628, 1180, 1360, 1355, 1995, 1482, 1180, 1522, 2300, 3372, 1234,\n",
       "         1398, 2637, 2647, 1258, 1439, 2926,  892, 3180,  897,  549, 1533, 1211,\n",
       "         3020, 2848,  537,  159, 1205, 1250, 2782, 2409, 2728, 2848, 3340, 3203,\n",
       "         2033, 3672, 2857, 3666, 1190, 1968,  470, 2880, 3191, 1063,  727, 1885,\n",
       "          558,  979, 2991,   33,  588, 1539, 3369, 3566, 3132, 2994, 3340, 2432,\n",
       "         2326, 3407, 2879,    9, 3634,  589, 1696, 1819]),\n",
       " tensor([2., 4., 3., 4., 3., 4., 1., 4., 5., 3., 4., 4., 5., 3., 4., 4., 5., 4.,\n",
       "         4., 5., 4., 4., 4., 1., 3., 3., 2., 3., 3., 3., 5., 4., 4., 3., 4., 4.,\n",
       "         4., 1., 3., 5., 4., 5., 2., 1., 3., 5., 3., 2., 3., 3., 3., 4., 3., 3.,\n",
       "         4., 4., 4., 5., 5., 3., 2., 3., 4., 2., 4., 5., 4., 4., 1., 4., 3., 4.,\n",
       "         3., 1., 4., 2., 3., 3., 2., 3., 4., 4., 4., 5., 5., 3., 4., 4., 5., 4.,\n",
       "         3., 3., 3., 5., 4., 3., 2., 4., 4., 5., 4., 4., 5., 5., 5., 5., 4., 3.,\n",
       "         5., 4., 4., 3., 5., 5., 3., 5., 4., 3., 4., 5., 2., 3., 3., 4., 5., 5.,\n",
       "         5., 4.])]"
      ]
     },
     "execution_count": 201,
     "metadata": {},
     "output_type": "execute_result"
    }
   ],
   "source": [
    "l"
   ]
  },
  {
   "cell_type": "code",
   "execution_count": 202,
   "metadata": {},
   "outputs": [
    {
     "data": {
      "text/plain": [
       "6399"
      ]
     },
     "execution_count": 202,
     "metadata": {},
     "output_type": "execute_result"
    }
   ],
   "source": [
    "len(mlcf_trn_dl)"
   ]
  },
  {
   "cell_type": "code",
   "execution_count": 323,
   "metadata": {},
   "outputs": [],
   "source": [
    "def get_emb(n_emb, emb_dim):\n",
    "    emb = torch.nn.Embedding(n_emb, emb_dim)\n",
    "    emb.weight.data.uniform_(-0.01, 0.01)\n",
    "    return emb\n",
    "\n",
    "class MovieLensCfModel(torch.nn.Module):\n",
    "    def __init__(self, n_users, n_movies, n_features):\n",
    "        super().__init__()\n",
    "        self.uf = get_emb(n_users, n_features)\n",
    "        self.mf = get_emb(n_movies, n_features)\n",
    "        self.ub = get_emb(n_users, 1)\n",
    "        self.mb = get_emb(n_movies, 1)\n",
    "        \n",
    "    def forward(self, u_idxs, m_idxs):\n",
    "        return 5 * torch.sigmoid(torch.squeeze(torch.sum((self.uf(u_idxs) * self.mf(m_idxs)), 1, \n",
    "                                       keepdim=True) + self.ub(u_idxs) + self.mb(m_idxs)))"
   ]
  },
  {
   "cell_type": "code",
   "execution_count": 324,
   "metadata": {},
   "outputs": [],
   "source": [
    "n_features = 50\n",
    "n_epochs = 2"
   ]
  },
  {
   "cell_type": "code",
   "execution_count": 325,
   "metadata": {},
   "outputs": [],
   "source": [
    "mlcf_model = MovieLensCfModel(len(uids), len(mids), n_features)\n",
    "mlcf_trn_ds = MovieLensCfDataset(uid_idx, mid_idx, ratings_trn_arr)\n",
    "mlcf_val_ds = MovieLensCfDataset(uid_idx, mid_idx, ratings_val_arr)\n",
    "mlcf_trn_dl = MovieLensCfDataLoader(mlcf_trn_ds, shuffle=True, bs=64)\n",
    "mlcf_val_dl = MovieLensCfDataLoader(mlcf_val_ds, bs=len(mlcf_val_ds))"
   ]
  },
  {
   "cell_type": "code",
   "execution_count": 326,
   "metadata": {},
   "outputs": [],
   "source": [
    "optimizer = torch.optim.Adam(mlcf_model.parameters())"
   ]
  },
  {
   "cell_type": "code",
   "execution_count": null,
   "metadata": {},
   "outputs": [
    {
     "name": "stdout",
     "output_type": "stream",
     "text": [
      "epoch:0; iteration:0; trn_loss:2.432405710220337\n",
      "epoch:0; iteration:500; trn_loss:1.876611590385437\n",
      "epoch:0; iteration:1000; trn_loss:1.7131539583206177\n",
      "epoch:0; iteration:1500; trn_loss:1.33926260471344\n",
      "epoch:0; iteration:2000; trn_loss:1.0421702861785889\n",
      "epoch:0; iteration:2500; trn_loss:0.8736897110939026\n",
      "epoch:0; iteration:3000; trn_loss:1.0669044256210327\n",
      "epoch:0; iteration:3500; trn_loss:0.6119546294212341\n",
      "epoch:0; iteration:4000; trn_loss:1.2707244157791138\n",
      "epoch:0; iteration:4500; trn_loss:0.9104400277137756\n",
      "epoch:0; iteration:5000; trn_loss:0.9401925206184387\n",
      "epoch:0; iteration:5500; trn_loss:0.982681930065155\n",
      "epoch:0; iteration:6000; trn_loss:0.8931989073753357\n",
      "epoch:0; iteration:6500; trn_loss:0.8575478196144104\n",
      "epoch:0; iteration:7000; trn_loss:0.6615099906921387\n",
      "epoch:0; iteration:7500; trn_loss:0.6814995408058167\n",
      "epoch:0; iteration:8000; trn_loss:0.8597233891487122\n",
      "epoch:0; iteration:8500; trn_loss:0.8457373976707458\n",
      "epoch:0; iteration:9000; trn_loss:0.8364303708076477\n",
      "epoch:0; iteration:9500; trn_loss:0.6681308150291443\n",
      "epoch:0; iteration:10000; trn_loss:0.8705034852027893\n",
      "epoch:0; iteration:10500; trn_loss:0.5977661609649658\n",
      "epoch:0; iteration:11000; trn_loss:0.756331741809845\n",
      "epoch:0; iteration:11500; trn_loss:0.5237497687339783\n",
      "epoch:0; iteration:12000; trn_loss:0.7106503844261169\n",
      "epoch:0; iteration:12500; trn_loss:0.8126569390296936\n",
      "epoch:0; val_loss:0.7953726649284363\n",
      "epoch:1; iteration:0; trn_loss:0.8948302865028381\n",
      "epoch:1; iteration:500; trn_loss:0.42449721693992615\n",
      "epoch:1; iteration:1000; trn_loss:0.6862610578536987\n",
      "epoch:1; iteration:1500; trn_loss:0.807059109210968\n",
      "epoch:1; iteration:2000; trn_loss:0.7402842044830322\n",
      "epoch:1; iteration:2500; trn_loss:0.9228201508522034\n",
      "epoch:1; iteration:3000; trn_loss:0.8064435720443726\n",
      "epoch:1; iteration:3500; trn_loss:0.524452805519104\n",
      "epoch:1; iteration:4000; trn_loss:0.5605372190475464\n",
      "epoch:1; iteration:4500; trn_loss:0.5490114688873291\n",
      "epoch:1; iteration:5000; trn_loss:0.7593528628349304\n",
      "epoch:1; iteration:5500; trn_loss:0.6919324994087219\n",
      "epoch:1; iteration:6000; trn_loss:0.7948166728019714\n",
      "epoch:1; iteration:6500; trn_loss:0.5840571522712708\n",
      "epoch:1; iteration:7000; trn_loss:0.9555606245994568\n",
      "epoch:1; iteration:7500; trn_loss:0.5712541937828064\n",
      "epoch:1; iteration:8000; trn_loss:0.9249424934387207\n",
      "epoch:1; iteration:8500; trn_loss:0.6765780448913574\n",
      "epoch:1; iteration:9000; trn_loss:0.7398052215576172\n",
      "epoch:1; iteration:9500; trn_loss:1.1114141941070557\n",
      "epoch:1; iteration:10000; trn_loss:0.9290106892585754\n",
      "epoch:1; iteration:10500; trn_loss:0.6129641532897949\n"
     ]
    }
   ],
   "source": [
    "for epoch in range(n_epochs):\n",
    "    #start of epoch\n",
    "    iteration = 0\n",
    "    for mini_batch in mlcf_trn_dl:\n",
    "        #start of iteration\n",
    "        optimizer.zero_grad()\n",
    "        preds = mlcf_model(mini_batch[0], mini_batch[1])\n",
    "        loss = torch.nn.functional.mse_loss(preds, mini_batch[2])\n",
    "        loss.backward()\n",
    "        optimizer.step()\n",
    "        if (iteration % 500) == 0:\n",
    "            print(f\"epoch:{epoch}; iteration:{iteration}; trn_loss:{loss.item()}\")\n",
    "        iteration += 1\n",
    "    val_batch = next(iter(mlcf_val_dl))\n",
    "    val_preds = mlcf_model(val_batch[0], val_batch[1])\n",
    "    val_loss = torch.nn.functional.mse_loss(val_preds, val_batch[2])\n",
    "    print(f\"epoch:{epoch}; val_loss:{val_loss}\")"
   ]
  },
  {
   "cell_type": "code",
   "execution_count": 322,
   "metadata": {},
   "outputs": [
    {
     "data": {
      "text/plain": [
       "0.8700399194525732"
      ]
     },
     "execution_count": 322,
     "metadata": {},
     "output_type": "execute_result"
    }
   ],
   "source": [
    "pow(0.75696946144104,0.5)"
   ]
  },
  {
   "cell_type": "code",
   "execution_count": null,
   "metadata": {},
   "outputs": [],
   "source": []
  }
 ],
 "metadata": {
  "kernelspec": {
   "display_name": "Python 3",
   "language": "python",
   "name": "python3"
  },
  "language_info": {
   "codemirror_mode": {
    "name": "ipython",
    "version": 3
   },
   "file_extension": ".py",
   "mimetype": "text/x-python",
   "name": "python",
   "nbconvert_exporter": "python",
   "pygments_lexer": "ipython3",
   "version": "3.6.8"
  }
 },
 "nbformat": 4,
 "nbformat_minor": 2
}
