{
 "cells": [
  {
   "cell_type": "code",
   "execution_count": 1,
   "metadata": {},
   "outputs": [],
   "source": [
    "import numpy as np\n",
    "import pandas as pd\n",
    "import torch"
   ]
  },
  {
   "cell_type": "code",
   "execution_count": 2,
   "metadata": {},
   "outputs": [],
   "source": [
    "from pathlib import Path"
   ]
  },
  {
   "cell_type": "code",
   "execution_count": 3,
   "metadata": {},
   "outputs": [],
   "source": [
    "path = Path(\"data/ml-1m\")"
   ]
  },
  {
   "cell_type": "code",
   "execution_count": 4,
   "metadata": {},
   "outputs": [
    {
     "data": {
      "text/plain": [
       "[PosixPath('data/ml-1m/README'),\n",
       " PosixPath('data/ml-1m/users.dat'),\n",
       " PosixPath('data/ml-1m/movies.dat'),\n",
       " PosixPath('data/ml-1m/ratings.dat')]"
      ]
     },
     "execution_count": 4,
     "metadata": {},
     "output_type": "execute_result"
    }
   ],
   "source": [
    "list(path.iterdir())"
   ]
  },
  {
   "cell_type": "code",
   "execution_count": 5,
   "metadata": {},
   "outputs": [
    {
     "data": {
      "text/plain": [
       "'data/ml-1m/ratings.dat'"
      ]
     },
     "execution_count": 5,
     "metadata": {},
     "output_type": "execute_result"
    }
   ],
   "source": [
    "str(path/\"ratings.dat\")"
   ]
  },
  {
   "cell_type": "code",
   "execution_count": 6,
   "metadata": {},
   "outputs": [
    {
     "name": "stderr",
     "output_type": "stream",
     "text": [
      "/home/pratik/anaconda3/envs/env1/lib/python3.6/site-packages/ipykernel_launcher.py:1: ParserWarning: Falling back to the 'python' engine because the 'c' engine does not support regex separators (separators > 1 char and different from '\\s+' are interpreted as regex); you can avoid this warning by specifying engine='python'.\n",
      "  \"\"\"Entry point for launching an IPython kernel.\n"
     ]
    }
   ],
   "source": [
    "ratings = pd.read_csv(str(path/\"ratings.dat\"), sep=\"::\", header=None, names=[\"uid\", \"mid\", \"rating\", \"ts\"])"
   ]
  },
  {
   "cell_type": "code",
   "execution_count": 7,
   "metadata": {},
   "outputs": [
    {
     "data": {
      "text/plain": [
       "uid       int64\n",
       "mid       int64\n",
       "rating    int64\n",
       "ts        int64\n",
       "dtype: object"
      ]
     },
     "execution_count": 7,
     "metadata": {},
     "output_type": "execute_result"
    }
   ],
   "source": [
    "ratings.dtypes"
   ]
  },
  {
   "cell_type": "code",
   "execution_count": 8,
   "metadata": {},
   "outputs": [
    {
     "name": "stderr",
     "output_type": "stream",
     "text": [
      "/home/pratik/anaconda3/envs/env1/lib/python3.6/site-packages/ipykernel_launcher.py:1: ParserWarning: Falling back to the 'python' engine because the 'c' engine does not support regex separators (separators > 1 char and different from '\\s+' are interpreted as regex); you can avoid this warning by specifying engine='python'.\n",
      "  \"\"\"Entry point for launching an IPython kernel.\n"
     ]
    }
   ],
   "source": [
    "users = pd.read_csv(str(path/\"users.dat\"), sep=\"::\", header=None, names=[\"uid\", \"gender\", \"age\", \"occupation\", \"zip_code\"])"
   ]
  },
  {
   "cell_type": "code",
   "execution_count": 9,
   "metadata": {},
   "outputs": [
    {
     "data": {
      "text/plain": [
       "uid            int64\n",
       "gender        object\n",
       "age            int64\n",
       "occupation     int64\n",
       "zip_code      object\n",
       "dtype: object"
      ]
     },
     "execution_count": 9,
     "metadata": {},
     "output_type": "execute_result"
    }
   ],
   "source": [
    "users.dtypes"
   ]
  },
  {
   "cell_type": "code",
   "execution_count": 10,
   "metadata": {},
   "outputs": [
    {
     "name": "stderr",
     "output_type": "stream",
     "text": [
      "/home/pratik/anaconda3/envs/env1/lib/python3.6/site-packages/ipykernel_launcher.py:1: ParserWarning: Falling back to the 'python' engine because the 'c' engine does not support regex separators (separators > 1 char and different from '\\s+' are interpreted as regex); you can avoid this warning by specifying engine='python'.\n",
      "  \"\"\"Entry point for launching an IPython kernel.\n"
     ]
    }
   ],
   "source": [
    "movies = pd.read_csv(str(path/\"movies.dat\"), sep=\"::\", header=None, names=[\"mid\", \"title\", \"genre\"])"
   ]
  },
  {
   "cell_type": "code",
   "execution_count": 11,
   "metadata": {},
   "outputs": [
    {
     "data": {
      "text/plain": [
       "mid       int64\n",
       "title    object\n",
       "genre    object\n",
       "dtype: object"
      ]
     },
     "execution_count": 11,
     "metadata": {},
     "output_type": "execute_result"
    }
   ],
   "source": [
    "movies.dtypes"
   ]
  },
  {
   "cell_type": "code",
   "execution_count": 12,
   "metadata": {},
   "outputs": [],
   "source": [
    "uids = users.uid.unique()"
   ]
  },
  {
   "cell_type": "code",
   "execution_count": 13,
   "metadata": {},
   "outputs": [],
   "source": [
    "mids = movies.mid.unique()"
   ]
  },
  {
   "cell_type": "code",
   "execution_count": 14,
   "metadata": {},
   "outputs": [],
   "source": [
    "uid_idx = {uid:idx  for idx,uid in enumerate(uids)}"
   ]
  },
  {
   "cell_type": "code",
   "execution_count": 15,
   "metadata": {},
   "outputs": [],
   "source": [
    "mid_idx = {mid:idx for idx,mid in enumerate(mids)}"
   ]
  },
  {
   "cell_type": "code",
   "execution_count": 16,
   "metadata": {},
   "outputs": [],
   "source": [
    "ratings_arr = ratings.iloc[:,:3].values"
   ]
  },
  {
   "cell_type": "code",
   "execution_count": 17,
   "metadata": {},
   "outputs": [
    {
     "data": {
      "text/html": [
       "<div>\n",
       "<style scoped>\n",
       "    .dataframe tbody tr th:only-of-type {\n",
       "        vertical-align: middle;\n",
       "    }\n",
       "\n",
       "    .dataframe tbody tr th {\n",
       "        vertical-align: top;\n",
       "    }\n",
       "\n",
       "    .dataframe thead th {\n",
       "        text-align: right;\n",
       "    }\n",
       "</style>\n",
       "<table border=\"1\" class=\"dataframe\">\n",
       "  <thead>\n",
       "    <tr style=\"text-align: right;\">\n",
       "      <th></th>\n",
       "      <th>uid</th>\n",
       "      <th>mid</th>\n",
       "      <th>rating</th>\n",
       "      <th>ts</th>\n",
       "    </tr>\n",
       "  </thead>\n",
       "  <tbody>\n",
       "    <tr>\n",
       "      <th>0</th>\n",
       "      <td>1</td>\n",
       "      <td>1193</td>\n",
       "      <td>5</td>\n",
       "      <td>978300760</td>\n",
       "    </tr>\n",
       "    <tr>\n",
       "      <th>1</th>\n",
       "      <td>1</td>\n",
       "      <td>661</td>\n",
       "      <td>3</td>\n",
       "      <td>978302109</td>\n",
       "    </tr>\n",
       "    <tr>\n",
       "      <th>2</th>\n",
       "      <td>1</td>\n",
       "      <td>914</td>\n",
       "      <td>3</td>\n",
       "      <td>978301968</td>\n",
       "    </tr>\n",
       "    <tr>\n",
       "      <th>3</th>\n",
       "      <td>1</td>\n",
       "      <td>3408</td>\n",
       "      <td>4</td>\n",
       "      <td>978300275</td>\n",
       "    </tr>\n",
       "    <tr>\n",
       "      <th>4</th>\n",
       "      <td>1</td>\n",
       "      <td>2355</td>\n",
       "      <td>5</td>\n",
       "      <td>978824291</td>\n",
       "    </tr>\n",
       "  </tbody>\n",
       "</table>\n",
       "</div>"
      ],
      "text/plain": [
       "   uid   mid  rating         ts\n",
       "0    1  1193       5  978300760\n",
       "1    1   661       3  978302109\n",
       "2    1   914       3  978301968\n",
       "3    1  3408       4  978300275\n",
       "4    1  2355       5  978824291"
      ]
     },
     "execution_count": 17,
     "metadata": {},
     "output_type": "execute_result"
    }
   ],
   "source": [
    "ratings.head()"
   ]
  },
  {
   "cell_type": "code",
   "execution_count": 18,
   "metadata": {},
   "outputs": [
    {
     "data": {
      "text/plain": [
       "array([   1, 3408,    4])"
      ]
     },
     "execution_count": 18,
     "metadata": {},
     "output_type": "execute_result"
    }
   ],
   "source": [
    "ratings_arr[3]"
   ]
  },
  {
   "cell_type": "code",
   "execution_count": 80,
   "metadata": {},
   "outputs": [],
   "source": [
    "class MovieLensCfDataset():\n",
    "    def __init__(self, uid_idx, mid_idx, ratings):\n",
    "        self.uid_idx, self.mid_idx, self.ratings = uid_idx, mid_idx, ratings\n",
    "        \n",
    "    def __getitem__(self, index):\n",
    "        r = self.ratings[index]\n",
    "        uidx = self.uid_idx[r[0]]\n",
    "        midx = self.mid_idx[r[1]]\n",
    "        return np.array([uidx, midx, r[2]])\n",
    "    \n",
    "    def __len__(self):\n",
    "        return self.ratings.shape[0]"
   ]
  },
  {
   "cell_type": "code",
   "execution_count": 81,
   "metadata": {},
   "outputs": [],
   "source": [
    "mlcf_ds = MovieLensCfDataset(uid_idx, mid_idx, ratings_arr)"
   ]
  },
  {
   "cell_type": "code",
   "execution_count": 82,
   "metadata": {},
   "outputs": [
    {
     "data": {
      "text/plain": [
       "(array([   0, 1179,    3]), 1000209)"
      ]
     },
     "execution_count": 82,
     "metadata": {},
     "output_type": "execute_result"
    }
   ],
   "source": [
    "mlcf_ds[5], len(mlcf_ds)"
   ]
  },
  {
   "cell_type": "code",
   "execution_count": 83,
   "metadata": {},
   "outputs": [
    {
     "data": {
      "text/plain": [
       "[(0, 0), (1176, 655), (5, 3)]"
      ]
     },
     "execution_count": 83,
     "metadata": {},
     "output_type": "execute_result"
    }
   ],
   "source": [
    "z = zip(*[mlcf_ds[0], mlcf_ds[1]])\n",
    "list(z)"
   ]
  },
  {
   "cell_type": "code",
   "execution_count": 84,
   "metadata": {},
   "outputs": [],
   "source": [
    "t = torch.tensor(np.array([1,2,3]))"
   ]
  },
  {
   "cell_type": "code",
   "execution_count": 85,
   "metadata": {},
   "outputs": [
    {
     "data": {
      "text/plain": [
       "tensor([1., 2., 3.])"
      ]
     },
     "execution_count": 85,
     "metadata": {},
     "output_type": "execute_result"
    }
   ],
   "source": [
    "t.float()"
   ]
  },
  {
   "cell_type": "code",
   "execution_count": 86,
   "metadata": {},
   "outputs": [
    {
     "data": {
      "text/plain": [
       "tensor([1, 2, 3])"
      ]
     },
     "execution_count": 86,
     "metadata": {},
     "output_type": "execute_result"
    }
   ],
   "source": [
    "t"
   ]
  },
  {
   "cell_type": "code",
   "execution_count": 93,
   "metadata": {},
   "outputs": [],
   "source": [
    "class MovieLensCfDataLoader():\n",
    "    def __init__(self, dataset, bs=128, shuffle=False):\n",
    "        self.dataset, self.bs = dataset, bs\n",
    "        if shuffle:\n",
    "            self.sampler = torch.utils.data.RandomSampler(dataset)\n",
    "        else:\n",
    "            self.sampler = torch.utils.data.SequentialSampler(dataset)\n",
    "        self.batch_sampler = torch.utils.data.BatchSampler(self.sampler, bs, False)\n",
    "    \n",
    "    def get_batch(self, idx_batch):\n",
    "        batch = []\n",
    "        for idx in idx_batch:\n",
    "            batch.append(self.dataset[idx])\n",
    "        batch = list(zip(*batch))\n",
    "        return [np.array(i) for i in batch]\n",
    "        \n",
    "    def get_tensor(self, batch):\n",
    "        t_batch = [torch.tensor(i).contiguous() for i in batch]\n",
    "        t_batch[-1] = t_batch[-1].float().contiguous()\n",
    "        return t_batch\n",
    "        \n",
    "    def __iter__(self):\n",
    "        for idx_batch in self.batch_sampler:\n",
    "            yield self.get_tensor(self.get_batch(idx_batch))\n",
    "            \n",
    "    def __len__(self):\n",
    "        return len(self.batch_sampler)"
   ]
  },
  {
   "cell_type": "code",
   "execution_count": 95,
   "metadata": {},
   "outputs": [],
   "source": [
    "mlcf_dl = MovieLensCfDataLoader(mlcf_ds, shuffle=True)"
   ]
  },
  {
   "cell_type": "code",
   "execution_count": 99,
   "metadata": {},
   "outputs": [],
   "source": [
    "l = next(iter(mlcf_dl))"
   ]
  },
  {
   "cell_type": "code",
   "execution_count": 100,
   "metadata": {},
   "outputs": [
    {
     "data": {
      "text/plain": [
       "[tensor([3463, 2633, 3881, 3647, 2234, 1488, 4408, 1675, 2435, 2445, 2077, 3475,\n",
       "         5538, 5097, 1824, 4311, 3523,  944, 3889, 4619, 2236, 3304,  122, 1684,\n",
       "         3966, 2402, 5594, 3475, 4618, 4155,  829, 3684, 5616, 4915, 3400, 1328,\n",
       "         5053, 1747, 1265, 5255, 3394, 5779, 1777, 2764, 5534,  332,  244, 5095,\n",
       "         3777, 3170, 5325, 2917, 2682, 4790, 3031, 5110, 1050, 3674,   77, 1610,\n",
       "         1181, 5683, 4542, 3332, 3390, 2076, 1190, 5045, 1306, 2394, 3037,  676,\n",
       "          713, 1242, 3303, 2030, 5428, 5078,  194, 4138,  148, 3606, 1888,  385,\n",
       "         4915, 4138, 4823, 3453,  969, 3598, 4507, 4270, 5906, 1009, 5778,  933,\n",
       "          636, 4697, 3877, 3474, 4578, 5393, 5989, 1598, 5609, 4459, 3053, 4212,\n",
       "         2165, 2546, 4860, 4367, 4095, 2016,  527, 2016, 5688, 4970, 1223,  751,\n",
       "         4447, 3846, 2506, 3828, 5877, 4681, 5447, 1486]),\n",
       " tensor([2327, 3294, 1771,  582,  496, 1064, 1079, 3185, 1113, 2031, 1673, 1940,\n",
       "         2618, 2091, 3827, 1301, 2433, 2757, 2473, 2213, 1640, 1627,  416, 3615,\n",
       "          901, 1006, 2878, 2044,  347, 2848, 2460,  207, 2878, 1695, 1683, 1548,\n",
       "         2077, 2595, 2344,  285, 2737,  546,  697,  232, 2222, 1156, 2306, 2631,\n",
       "          220, 1276, 1109, 3001, 1202, 2071,  358,  901,  186,  201,  232, 2286,\n",
       "         1998,  470, 2907,  124,  151, 1904, 2585, 1134,  655, 1183, 3620,  847,\n",
       "         3371,  901, 1176, 3761,  511, 2315, 3848, 1356,  342, 2219,  421,   71,\n",
       "         1720, 2086, 2045, 2359, 3444,  540, 1163, 1352,  886,  376, 2722,  278,\n",
       "         1076, 2991, 3704,  453,  960,  354, 3483, 1196, 1372, 1491, 3784, 2588,\n",
       "          589, 3355, 2516, 1989, 1349,  523, 2054,  416,  316, 1249,  385, 1899,\n",
       "         2603, 1934,  911, 3203, 1337,  276,  999, 3476]),\n",
       " tensor([5., 5., 3., 3., 4., 4., 3., 3., 2., 3., 4., 1., 4., 4., 4., 4., 3., 3.,\n",
       "         5., 5., 4., 4., 2., 3., 4., 4., 3., 1., 2., 4., 4., 2., 4., 3., 3., 3.,\n",
       "         3., 4., 2., 2., 3., 3., 4., 3., 4., 4., 1., 4., 3., 4., 2., 4., 5., 4.,\n",
       "         4., 3., 1., 3., 4., 3., 4., 3., 3., 1., 3., 3., 4., 4., 4., 4., 1., 5.,\n",
       "         2., 5., 5., 3., 1., 2., 4., 3., 4., 4., 3., 5., 3., 4., 4., 2., 3., 4.,\n",
       "         4., 3., 4., 3., 4., 3., 2., 5., 3., 3., 3., 1., 3., 5., 4., 3., 3., 4.,\n",
       "         5., 4., 5., 3., 3., 5., 3., 3., 4., 5., 5., 4., 4., 3., 4., 3., 5., 3.,\n",
       "         3., 3.])]"
      ]
     },
     "execution_count": 100,
     "metadata": {},
     "output_type": "execute_result"
    }
   ],
   "source": [
    "l"
   ]
  },
  {
   "cell_type": "code",
   "execution_count": 98,
   "metadata": {},
   "outputs": [
    {
     "data": {
      "text/plain": [
       "7815"
      ]
     },
     "execution_count": 98,
     "metadata": {},
     "output_type": "execute_result"
    }
   ],
   "source": [
    "len(mlcf_dl)"
   ]
  },
  {
   "cell_type": "code",
   "execution_count": 102,
   "metadata": {},
   "outputs": [],
   "source": [
    "from torch import nn"
   ]
  },
  {
   "cell_type": "code",
   "execution_count": 104,
   "metadata": {},
   "outputs": [
    {
     "data": {
      "text/plain": [
       "torch.nn.modules.module.Module"
      ]
     },
     "execution_count": 104,
     "metadata": {},
     "output_type": "execute_result"
    }
   ],
   "source": [
    "nn.Module"
   ]
  },
  {
   "cell_type": "code",
   "execution_count": null,
   "metadata": {},
   "outputs": [],
   "source": [
    "class MovieLensCfModel(torch.nn.Module):\n",
    "    def __init__(self):\n",
    "        "
   ]
  }
 ],
 "metadata": {
  "kernelspec": {
   "display_name": "Python 3",
   "language": "python",
   "name": "python3"
  },
  "language_info": {
   "codemirror_mode": {
    "name": "ipython",
    "version": 3
   },
   "file_extension": ".py",
   "mimetype": "text/x-python",
   "name": "python",
   "nbconvert_exporter": "python",
   "pygments_lexer": "ipython3",
   "version": "3.6.8"
  }
 },
 "nbformat": 4,
 "nbformat_minor": 2
}
