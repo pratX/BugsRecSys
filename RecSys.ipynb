{
 "cells": [
  {
   "cell_type": "code",
   "execution_count": 1,
   "metadata": {},
   "outputs": [],
   "source": [
    "import numpy as np\n",
    "import pandas as pd\n",
    "import torch\n",
    "\n",
    "from pathlib import Path"
   ]
  },
  {
   "cell_type": "code",
   "execution_count": 2,
   "metadata": {},
   "outputs": [],
   "source": [
    "path = Path(\"data/ml-1m\")"
   ]
  },
  {
   "cell_type": "code",
   "execution_count": 3,
   "metadata": {},
   "outputs": [
    {
     "data": {
      "text/plain": [
       "[PosixPath('data/ml-1m/README'),\n",
       " PosixPath('data/ml-1m/users.dat'),\n",
       " PosixPath('data/ml-1m/movies.dat'),\n",
       " PosixPath('data/ml-1m/ratings.dat')]"
      ]
     },
     "execution_count": 3,
     "metadata": {},
     "output_type": "execute_result"
    }
   ],
   "source": [
    "list(path.iterdir())"
   ]
  },
  {
   "cell_type": "code",
   "execution_count": 4,
   "metadata": {},
   "outputs": [
    {
     "data": {
      "text/plain": [
       "'data/ml-1m/ratings.dat'"
      ]
     },
     "execution_count": 4,
     "metadata": {},
     "output_type": "execute_result"
    }
   ],
   "source": [
    "str(path/\"ratings.dat\")"
   ]
  },
  {
   "cell_type": "code",
   "execution_count": 5,
   "metadata": {},
   "outputs": [
    {
     "name": "stderr",
     "output_type": "stream",
     "text": [
      "/home/pratik/anaconda3/envs/env1/lib/python3.6/site-packages/ipykernel_launcher.py:1: ParserWarning: Falling back to the 'python' engine because the 'c' engine does not support regex separators (separators > 1 char and different from '\\s+' are interpreted as regex); you can avoid this warning by specifying engine='python'.\n",
      "  \"\"\"Entry point for launching an IPython kernel.\n"
     ]
    }
   ],
   "source": [
    "ratings = pd.read_csv(str(path/\"ratings.dat\"), sep=\"::\", header=None, names=[\"uid\", \"mid\", \"rating\", \"ts\"])"
   ]
  },
  {
   "cell_type": "code",
   "execution_count": 6,
   "metadata": {},
   "outputs": [
    {
     "data": {
      "text/plain": [
       "uid       int64\n",
       "mid       int64\n",
       "rating    int64\n",
       "ts        int64\n",
       "dtype: object"
      ]
     },
     "execution_count": 6,
     "metadata": {},
     "output_type": "execute_result"
    }
   ],
   "source": [
    "ratings.dtypes"
   ]
  },
  {
   "cell_type": "code",
   "execution_count": 7,
   "metadata": {},
   "outputs": [
    {
     "name": "stderr",
     "output_type": "stream",
     "text": [
      "/home/pratik/anaconda3/envs/env1/lib/python3.6/site-packages/ipykernel_launcher.py:1: ParserWarning: Falling back to the 'python' engine because the 'c' engine does not support regex separators (separators > 1 char and different from '\\s+' are interpreted as regex); you can avoid this warning by specifying engine='python'.\n",
      "  \"\"\"Entry point for launching an IPython kernel.\n"
     ]
    }
   ],
   "source": [
    "users = pd.read_csv(str(path/\"users.dat\"), sep=\"::\", header=None, names=[\"uid\", \"gender\", \"age\", \"occupation\", \"zip_code\"])"
   ]
  },
  {
   "cell_type": "code",
   "execution_count": 8,
   "metadata": {},
   "outputs": [
    {
     "data": {
      "text/plain": [
       "uid            int64\n",
       "gender        object\n",
       "age            int64\n",
       "occupation     int64\n",
       "zip_code      object\n",
       "dtype: object"
      ]
     },
     "execution_count": 8,
     "metadata": {},
     "output_type": "execute_result"
    }
   ],
   "source": [
    "users.dtypes"
   ]
  },
  {
   "cell_type": "code",
   "execution_count": 9,
   "metadata": {},
   "outputs": [
    {
     "name": "stderr",
     "output_type": "stream",
     "text": [
      "/home/pratik/anaconda3/envs/env1/lib/python3.6/site-packages/ipykernel_launcher.py:1: ParserWarning: Falling back to the 'python' engine because the 'c' engine does not support regex separators (separators > 1 char and different from '\\s+' are interpreted as regex); you can avoid this warning by specifying engine='python'.\n",
      "  \"\"\"Entry point for launching an IPython kernel.\n"
     ]
    }
   ],
   "source": [
    "movies = pd.read_csv(str(path/\"movies.dat\"), sep=\"::\", header=None, names=[\"mid\", \"title\", \"genre\"])"
   ]
  },
  {
   "cell_type": "code",
   "execution_count": 10,
   "metadata": {},
   "outputs": [
    {
     "data": {
      "text/plain": [
       "mid       int64\n",
       "title    object\n",
       "genre    object\n",
       "dtype: object"
      ]
     },
     "execution_count": 10,
     "metadata": {},
     "output_type": "execute_result"
    }
   ],
   "source": [
    "movies.dtypes"
   ]
  },
  {
   "cell_type": "code",
   "execution_count": 11,
   "metadata": {},
   "outputs": [],
   "source": [
    "uids = users.uid.unique()"
   ]
  },
  {
   "cell_type": "code",
   "execution_count": 12,
   "metadata": {},
   "outputs": [],
   "source": [
    "mids = movies.mid.unique()"
   ]
  },
  {
   "cell_type": "code",
   "execution_count": 13,
   "metadata": {},
   "outputs": [],
   "source": [
    "uid_idx = {uid:idx  for idx,uid in enumerate(uids)}"
   ]
  },
  {
   "cell_type": "code",
   "execution_count": 14,
   "metadata": {},
   "outputs": [],
   "source": [
    "mid_idx = {mid:idx for idx,mid in enumerate(mids)}"
   ]
  },
  {
   "cell_type": "code",
   "execution_count": 15,
   "metadata": {},
   "outputs": [],
   "source": [
    "val_idxs = np.random.randint(low=0, high=len(ratings), size=int(0.2*len(ratings)))"
   ]
  },
  {
   "cell_type": "code",
   "execution_count": 16,
   "metadata": {},
   "outputs": [],
   "source": [
    "ratings_idxs = np.array([False]*len(ratings))"
   ]
  },
  {
   "cell_type": "code",
   "execution_count": 17,
   "metadata": {},
   "outputs": [],
   "source": [
    "ratings_idxs[val_idxs] = True"
   ]
  },
  {
   "cell_type": "code",
   "execution_count": 18,
   "metadata": {},
   "outputs": [],
   "source": [
    "ratings_trn_arr = ratings.iloc[~ratings_idxs,:3].values"
   ]
  },
  {
   "cell_type": "code",
   "execution_count": 19,
   "metadata": {},
   "outputs": [],
   "source": [
    "ratings_val_arr = ratings.iloc[ratings_idxs,:3].values"
   ]
  },
  {
   "cell_type": "code",
   "execution_count": 20,
   "metadata": {
    "scrolled": true
   },
   "outputs": [
    {
     "data": {
      "text/html": [
       "<div>\n",
       "<style scoped>\n",
       "    .dataframe tbody tr th:only-of-type {\n",
       "        vertical-align: middle;\n",
       "    }\n",
       "\n",
       "    .dataframe tbody tr th {\n",
       "        vertical-align: top;\n",
       "    }\n",
       "\n",
       "    .dataframe thead th {\n",
       "        text-align: right;\n",
       "    }\n",
       "</style>\n",
       "<table border=\"1\" class=\"dataframe\">\n",
       "  <thead>\n",
       "    <tr style=\"text-align: right;\">\n",
       "      <th></th>\n",
       "      <th>uid</th>\n",
       "      <th>mid</th>\n",
       "      <th>rating</th>\n",
       "      <th>ts</th>\n",
       "    </tr>\n",
       "  </thead>\n",
       "  <tbody>\n",
       "    <tr>\n",
       "      <th>0</th>\n",
       "      <td>1</td>\n",
       "      <td>1193</td>\n",
       "      <td>5</td>\n",
       "      <td>978300760</td>\n",
       "    </tr>\n",
       "    <tr>\n",
       "      <th>1</th>\n",
       "      <td>1</td>\n",
       "      <td>661</td>\n",
       "      <td>3</td>\n",
       "      <td>978302109</td>\n",
       "    </tr>\n",
       "    <tr>\n",
       "      <th>2</th>\n",
       "      <td>1</td>\n",
       "      <td>914</td>\n",
       "      <td>3</td>\n",
       "      <td>978301968</td>\n",
       "    </tr>\n",
       "    <tr>\n",
       "      <th>3</th>\n",
       "      <td>1</td>\n",
       "      <td>3408</td>\n",
       "      <td>4</td>\n",
       "      <td>978300275</td>\n",
       "    </tr>\n",
       "    <tr>\n",
       "      <th>4</th>\n",
       "      <td>1</td>\n",
       "      <td>2355</td>\n",
       "      <td>5</td>\n",
       "      <td>978824291</td>\n",
       "    </tr>\n",
       "  </tbody>\n",
       "</table>\n",
       "</div>"
      ],
      "text/plain": [
       "   uid   mid  rating         ts\n",
       "0    1  1193       5  978300760\n",
       "1    1   661       3  978302109\n",
       "2    1   914       3  978301968\n",
       "3    1  3408       4  978300275\n",
       "4    1  2355       5  978824291"
      ]
     },
     "execution_count": 20,
     "metadata": {},
     "output_type": "execute_result"
    }
   ],
   "source": [
    "ratings.head()"
   ]
  },
  {
   "cell_type": "code",
   "execution_count": 21,
   "metadata": {},
   "outputs": [
    {
     "data": {
      "text/plain": [
       "((818857, 3), (181352, 3))"
      ]
     },
     "execution_count": 21,
     "metadata": {},
     "output_type": "execute_result"
    }
   ],
   "source": [
    "ratings_trn_arr.shape, ratings_val_arr.shape"
   ]
  },
  {
   "cell_type": "code",
   "execution_count": 22,
   "metadata": {},
   "outputs": [],
   "source": [
    "class MovieLensCfDataset():\n",
    "    def __init__(self, uid_idx, mid_idx, ratings):\n",
    "        self.uid_idx, self.mid_idx, self.ratings = uid_idx, mid_idx, ratings\n",
    "        \n",
    "    def __getitem__(self, index):\n",
    "        r = self.ratings[index]\n",
    "        uidx = self.uid_idx[r[0]]\n",
    "        midx = self.mid_idx[r[1]]\n",
    "        return np.array([uidx, midx, r[2]])\n",
    "    \n",
    "    def __len__(self):\n",
    "        return self.ratings.shape[0]"
   ]
  },
  {
   "cell_type": "code",
   "execution_count": 23,
   "metadata": {},
   "outputs": [],
   "source": [
    "mlcf_trn_ds = MovieLensCfDataset(uid_idx, mid_idx, ratings_trn_arr)"
   ]
  },
  {
   "cell_type": "code",
   "execution_count": 25,
   "metadata": {},
   "outputs": [
    {
     "data": {
      "text/plain": [
       "(array([   0, 1267,    5]), 818857)"
      ]
     },
     "execution_count": 25,
     "metadata": {},
     "output_type": "execute_result"
    }
   ],
   "source": [
    "mlcf_trn_ds[5], len(mlcf_trn_ds)"
   ]
  },
  {
   "cell_type": "code",
   "execution_count": 35,
   "metadata": {},
   "outputs": [],
   "source": [
    "from torch.utils import data"
   ]
  },
  {
   "cell_type": "code",
   "execution_count": 38,
   "metadata": {},
   "outputs": [],
   "source": [
    "class MovieLensCfDataLoader():\n",
    "    def __init__(self, dataset, bs=128, shuffle=False):\n",
    "        self.dataset, self.bs = dataset, bs\n",
    "        if shuffle:\n",
    "            self.sampler = torch.utils.data.RandomSampler(dataset)\n",
    "        else:\n",
    "            self.sampler = torch.utils.data.SequentialSampler(dataset)\n",
    "        self.batch_sampler = torch.utils.data.BatchSampler(self.sampler, bs, False)\n",
    "    \n",
    "    def get_batch(self, idx_batch):\n",
    "        batch = []\n",
    "        for idx in idx_batch:\n",
    "            batch.append(self.dataset[idx])\n",
    "        batch = list(zip(*batch))\n",
    "        return [np.array(i) for i in batch]\n",
    "        \n",
    "    def get_tensor(self, batch):\n",
    "        t_batch = [torch.tensor(i).contiguous() for i in batch]\n",
    "        t_batch[-1] = t_batch[-1].float().contiguous()\n",
    "        return t_batch\n",
    "        \n",
    "    def __iter__(self):\n",
    "        for idx_batch in self.batch_sampler:\n",
    "            yield self.get_tensor(self.get_batch(idx_batch))\n",
    "            \n",
    "    def __len__(self):\n",
    "        return len(self.batch_sampler)"
   ]
  },
  {
   "cell_type": "code",
   "execution_count": 39,
   "metadata": {},
   "outputs": [],
   "source": [
    "mlcf_trn_dl = MovieLensCfDataLoader(mlcf_trn_ds, shuffle=True)"
   ]
  },
  {
   "cell_type": "code",
   "execution_count": 40,
   "metadata": {},
   "outputs": [],
   "source": [
    "l = next(iter(mlcf_trn_dl))"
   ]
  },
  {
   "cell_type": "code",
   "execution_count": 41,
   "metadata": {},
   "outputs": [
    {
     "data": {
      "text/plain": [
       "[tensor([1956, 2933,  854, 3581, 4584,  307, 1305, 4956, 3239, 1087, 5023,  817,\n",
       "          831,  795, 3413, 4280, 3994, 3945, 4334, 5705, 5746, 3412, 3409, 3907,\n",
       "         5764, 3335, 3144, 4713,  829, 4522, 4447, 3577, 1241, 4814, 4063, 3468,\n",
       "          647, 2175, 1337, 5947, 3413, 3930,  600, 4490, 4429, 4309, 1646, 5386,\n",
       "         3863, 2107, 3525, 4247, 4222, 5547, 1243, 4012, 3388, 3127, 5635, 1979,\n",
       "         1697, 4724, 2872, 5407, 5412, 3225,  523, 4057,   64, 3388, 2303, 2678,\n",
       "         3332, 3440, 2565, 4708, 2865, 3335, 4737, 1979, 3291,  753, 4961, 1116,\n",
       "         1450,  187, 4496, 3625, 3421, 4488, 2740,  174,  135, 5635,  301, 4146,\n",
       "         2115, 3708, 4727, 3799, 2379, 1883, 2024, 3912, 3686, 2732, 1721, 3390,\n",
       "          181, 1138, 1596, 1592, 1050, 1915,  267, 1126, 1446, 1968, 3260, 2418,\n",
       "         4591, 1925, 3599, 5793, 1242, 3628, 1596, 5846]),\n",
       " tensor([2327, 2803, 3195, 1192, 1113, 2728, 2890,  139, 1683, 1332,  898,  159,\n",
       "         3457,  959, 1375, 1207,  623,  535, 3200, 2327,  698,  537, 1372, 1720,\n",
       "         1195, 2279, 2327, 1176,  257,  149, 2427, 1491, 3841, 2693, 1045, 3076,\n",
       "         1073, 3827, 3339,  888, 1355, 1673, 2892,  222,  102,   69, 1307, 3761,\n",
       "          887,  453, 3530, 1207, 2966,  120, 2847, 3402, 1934, 1230, 2382,  604,\n",
       "         1072,  818, 2031,   47, 1284, 2283, 1943, 1192,  520, 1290, 2105,   16,\n",
       "         1815,  289, 3339, 1656, 1885, 2394, 1196,  227,  795, 3676, 1556, 2027,\n",
       "         1892, 1607, 1168, 2052, 1335, 3569, 2322, 1058, 1269, 3799, 1568, 1884,\n",
       "         1202, 1598,  166, 2472, 2255, 2199, 1192, 2265, 2225, 1115, 3624,  151,\n",
       "         1568, 2693,  201, 1904,  370, 3155, 1786, 3495, 3487, 2965,  290, 1192,\n",
       "         1277, 1168,  285, 2180, 3718, 1207, 1058,  821]),\n",
       " tensor([5., 3., 3., 3., 3., 3., 4., 3., 4., 1., 5., 4., 4., 3., 4., 4., 5., 4.,\n",
       "         3., 4., 3., 5., 3., 2., 5., 2., 3., 4., 3., 1., 4., 4., 4., 5., 4., 4.,\n",
       "         5., 4., 4., 5., 5., 3., 4., 5., 3., 4., 3., 3., 5., 5., 5., 3., 4., 1.,\n",
       "         3., 3., 3., 4., 1., 5., 2., 3., 3., 3., 4., 4., 3., 4., 5., 4., 3., 4.,\n",
       "         5., 2., 4., 5., 5., 3., 2., 3., 4., 3., 4., 4., 4., 5., 5., 5., 2., 4.,\n",
       "         3., 5., 5., 2., 4., 4., 3., 4., 2., 4., 4., 4., 5., 3., 1., 4., 3., 3.,\n",
       "         5., 5., 1., 2., 3., 5., 3., 2., 5., 5., 5., 3., 5., 4., 1., 3., 5., 5.,\n",
       "         5., 4.])]"
      ]
     },
     "execution_count": 41,
     "metadata": {},
     "output_type": "execute_result"
    }
   ],
   "source": [
    "l"
   ]
  },
  {
   "cell_type": "code",
   "execution_count": 42,
   "metadata": {},
   "outputs": [
    {
     "data": {
      "text/plain": [
       "6398"
      ]
     },
     "execution_count": 42,
     "metadata": {},
     "output_type": "execute_result"
    }
   ],
   "source": [
    "len(mlcf_trn_dl)"
   ]
  },
  {
   "cell_type": "code",
   "execution_count": 43,
   "metadata": {},
   "outputs": [],
   "source": [
    "def get_emb(n_emb, emb_dim):\n",
    "    emb = torch.nn.Embedding(n_emb, emb_dim)\n",
    "    emb.weight.data.uniform_(-0.01, 0.01)\n",
    "    return emb\n",
    "\n",
    "class MovieLensCfModel(torch.nn.Module):\n",
    "    def __init__(self, n_users, n_movies, n_features):\n",
    "        super().__init__()\n",
    "        self.uf = get_emb(n_users, n_features)\n",
    "        self.mf = get_emb(n_movies, n_features)\n",
    "        self.ub = get_emb(n_users, 1)\n",
    "        self.mb = get_emb(n_movies, 1)\n",
    "        \n",
    "    def forward(self, u_idxs, m_idxs):\n",
    "        return 5 * torch.sigmoid(torch.squeeze(torch.sum((self.uf(u_idxs) * self.mf(m_idxs)), 1, \n",
    "                                       keepdim=True) + self.ub(u_idxs) + self.mb(m_idxs)))"
   ]
  },
  {
   "cell_type": "code",
   "execution_count": 44,
   "metadata": {},
   "outputs": [],
   "source": [
    "n_features = 50\n",
    "n_epochs = 2"
   ]
  },
  {
   "cell_type": "code",
   "execution_count": 45,
   "metadata": {},
   "outputs": [],
   "source": [
    "mlcf_model = MovieLensCfModel(len(uids), len(mids), n_features)\n",
    "mlcf_trn_ds = MovieLensCfDataset(uid_idx, mid_idx, ratings_trn_arr)\n",
    "mlcf_val_ds = MovieLensCfDataset(uid_idx, mid_idx, ratings_val_arr)\n",
    "mlcf_trn_dl = MovieLensCfDataLoader(mlcf_trn_ds, shuffle=True, bs=64)\n",
    "mlcf_val_dl = MovieLensCfDataLoader(mlcf_val_ds, bs=len(mlcf_val_ds))"
   ]
  },
  {
   "cell_type": "code",
   "execution_count": 46,
   "metadata": {},
   "outputs": [],
   "source": [
    "optimizer = torch.optim.Adam(mlcf_model.parameters())"
   ]
  },
  {
   "cell_type": "code",
   "execution_count": 47,
   "metadata": {},
   "outputs": [
    {
     "name": "stdout",
     "output_type": "stream",
     "text": [
      "epoch:0; iteration:0; trn_loss:1.9701387882232666\n",
      "epoch:0; iteration:500; trn_loss:1.9901479482650757\n",
      "epoch:0; iteration:1000; trn_loss:1.4574848413467407\n",
      "epoch:0; iteration:1500; trn_loss:0.9649052619934082\n",
      "epoch:0; iteration:2000; trn_loss:0.9627129435539246\n",
      "epoch:0; iteration:2500; trn_loss:0.8875295519828796\n",
      "epoch:0; iteration:3000; trn_loss:0.9062322378158569\n",
      "epoch:0; iteration:3500; trn_loss:0.6941001415252686\n",
      "epoch:0; iteration:4000; trn_loss:0.8348031640052795\n",
      "epoch:0; iteration:4500; trn_loss:0.8412410616874695\n",
      "epoch:0; iteration:5000; trn_loss:0.8494327068328857\n",
      "epoch:0; iteration:5500; trn_loss:1.1773713827133179\n",
      "epoch:0; iteration:6000; trn_loss:0.931889533996582\n",
      "epoch:0; iteration:6500; trn_loss:0.9589399695396423\n",
      "epoch:0; iteration:7000; trn_loss:0.6762319803237915\n",
      "epoch:0; iteration:7500; trn_loss:0.8657174706459045\n",
      "epoch:0; iteration:8000; trn_loss:0.8396139144897461\n",
      "epoch:0; iteration:8500; trn_loss:0.6313912868499756\n",
      "epoch:0; iteration:9000; trn_loss:1.1222885847091675\n",
      "epoch:0; iteration:9500; trn_loss:0.5404946804046631\n",
      "epoch:0; iteration:10000; trn_loss:0.931316077709198\n",
      "epoch:0; iteration:10500; trn_loss:0.5798895955085754\n",
      "epoch:0; iteration:11000; trn_loss:0.8515685796737671\n",
      "epoch:0; iteration:11500; trn_loss:0.9382349252700806\n",
      "epoch:0; iteration:12000; trn_loss:0.6076200008392334\n",
      "epoch:0; iteration:12500; trn_loss:0.8845029473304749\n",
      "epoch:0; val_loss:0.7900825142860413\n",
      "epoch:1; iteration:0; trn_loss:0.8015206456184387\n",
      "epoch:1; iteration:500; trn_loss:0.6653124690055847\n",
      "epoch:1; iteration:1000; trn_loss:0.7098541259765625\n",
      "epoch:1; iteration:1500; trn_loss:0.46100282669067383\n",
      "epoch:1; iteration:2000; trn_loss:0.6136212944984436\n",
      "epoch:1; iteration:2500; trn_loss:0.6023814082145691\n",
      "epoch:1; iteration:3000; trn_loss:0.8606805205345154\n",
      "epoch:1; iteration:3500; trn_loss:0.6614418029785156\n",
      "epoch:1; iteration:4000; trn_loss:0.9806233644485474\n",
      "epoch:1; iteration:4500; trn_loss:0.600992739200592\n",
      "epoch:1; iteration:5000; trn_loss:0.7749272584915161\n",
      "epoch:1; iteration:5500; trn_loss:0.9291055202484131\n",
      "epoch:1; iteration:6000; trn_loss:1.012780785560608\n",
      "epoch:1; iteration:6500; trn_loss:0.7243229746818542\n",
      "epoch:1; iteration:7000; trn_loss:0.7090650796890259\n",
      "epoch:1; iteration:7500; trn_loss:0.6593043804168701\n",
      "epoch:1; iteration:8000; trn_loss:0.7110374569892883\n",
      "epoch:1; iteration:8500; trn_loss:0.5206161737442017\n",
      "epoch:1; iteration:9000; trn_loss:0.7089864015579224\n",
      "epoch:1; iteration:9500; trn_loss:0.43867167830467224\n",
      "epoch:1; iteration:10000; trn_loss:0.7882705926895142\n",
      "epoch:1; iteration:10500; trn_loss:0.6635189652442932\n",
      "epoch:1; iteration:11000; trn_loss:0.5714634656906128\n",
      "epoch:1; iteration:11500; trn_loss:0.5114227533340454\n",
      "epoch:1; iteration:12000; trn_loss:0.9293314218521118\n",
      "epoch:1; iteration:12500; trn_loss:0.5036494731903076\n",
      "epoch:1; val_loss:0.7428099513053894\n"
     ]
    }
   ],
   "source": [
    "for epoch in range(n_epochs):\n",
    "    #start of epoch\n",
    "    iteration = 0\n",
    "    for mini_batch in mlcf_trn_dl:\n",
    "        #start of iteration\n",
    "        optimizer.zero_grad()\n",
    "        preds = mlcf_model(mini_batch[0], mini_batch[1])\n",
    "        loss = torch.nn.functional.mse_loss(preds, mini_batch[2])\n",
    "        loss.backward()\n",
    "        optimizer.step()\n",
    "        if (iteration % 500) == 0:\n",
    "            print(f\"epoch:{epoch}; iteration:{iteration}; trn_loss:{loss.item()}\")\n",
    "        iteration += 1\n",
    "    val_batch = next(iter(mlcf_val_dl))\n",
    "    val_preds = mlcf_model(val_batch[0], val_batch[1])\n",
    "    val_loss = torch.nn.functional.mse_loss(val_preds, val_batch[2])\n",
    "    print(f\"epoch:{epoch}; val_loss:{val_loss}\")"
   ]
  },
  {
   "cell_type": "code",
   "execution_count": 48,
   "metadata": {},
   "outputs": [
    {
     "data": {
      "text/plain": [
       "0.8618642302041485"
      ]
     },
     "execution_count": 48,
     "metadata": {},
     "output_type": "execute_result"
    }
   ],
   "source": [
    "#Test RMSE score. Should be comparable to MovieLens 1M Benchmarks: \n",
    "# https://www.researchgate.net/figure/Test-RMSE-of-different-models-on-MovieLens-1M_tbl1_303698729\n",
    "pow(0.7428099513053894,0.5)"
   ]
  },
  {
   "cell_type": "markdown",
   "metadata": {},
   "source": [
    "Since the test rmse is comparable to benchmarks, the user and movie features that have been learned are good  and can be used for making recommendations"
   ]
  },
  {
   "cell_type": "code",
   "execution_count": 64,
   "metadata": {},
   "outputs": [],
   "source": [
    "movies = movies.set_index(\"mid\")"
   ]
  },
  {
   "cell_type": "code",
   "execution_count": 49,
   "metadata": {},
   "outputs": [],
   "source": [
    "# for bias and against bias recommendations comparison\n",
    "# Given user_id, make N \"for bias\" recommendations"
   ]
  },
  {
   "cell_type": "code",
   "execution_count": 52,
   "metadata": {},
   "outputs": [],
   "source": [
    "np_mb = mlcf_model.mb.weight.data.numpy()\n",
    "np_mf = mlcf_model.mf.weight.data.numpy()\n",
    "np_uf = mlcf_model.uf.weight.data.numpy()"
   ]
  },
  {
   "cell_type": "code",
   "execution_count": 91,
   "metadata": {},
   "outputs": [],
   "source": [
    "for m_idx in range(np_mb.shape[0]):\n",
    "    movies.loc[mids[m_idx], \"movie_quality\"] = np_mb[m_idx][0]"
   ]
  },
  {
   "cell_type": "code",
   "execution_count": 254,
   "metadata": {},
   "outputs": [],
   "source": [
    "def for_bias_recs(u_idx, m_idxs, num_recs):\n",
    "    \"\"\" Returns movie idxs\n",
    "    \"\"\"\n",
    "    uf = np_uf[u_idx]\n",
    "    mf = np_mf[m_idxs]\n",
    "    np_rats = np.sum((mf * uf), axis=1) + np_mb[m_idxs].flatten()\n",
    "    return m_idxs[np.argsort(np_rats)[-num_recs:]]"
   ]
  },
  {
   "cell_type": "code",
   "execution_count": 296,
   "metadata": {},
   "outputs": [],
   "source": [
    "def against_bias_recs(u_idx, m_idxs, num_recs, exclusive=True):\n",
    "    \"\"\" Returns movie idxs\n",
    "    \"\"\"\n",
    "    if exclusive:\n",
    "        sel = np.array([False]*len(movies))\n",
    "        sel[m_idxs] = True\n",
    "        f_m_idxs = for_bias_recs(u_idx, m_idxs, num_recs)\n",
    "        sel[f_m_idxs] = False\n",
    "        m_idxs = np.argwhere(sel).flatten()\n",
    "        \n",
    "    uf = np_uf[u_idx]\n",
    "    mf = np_mf[m_idxs]\n",
    "    clip_val = -0.35 * (np_mb.max() - np_mb.min())\n",
    "    np_rats = np_mb[m_idxs].flatten() -  np.clip(np.sum((mf * uf), axis=1), clip_val, -0.3*clip_val)\n",
    "    return m_idxs[np.argsort(np_rats)[-num_recs:]]"
   ]
  },
  {
   "cell_type": "code",
   "execution_count": 297,
   "metadata": {},
   "outputs": [],
   "source": [
    "all_m_idxs = np.arange(len(movies))"
   ]
  },
  {
   "cell_type": "code",
   "execution_count": 302,
   "metadata": {},
   "outputs": [],
   "source": [
    "for_recs_idxs = for_bias_recs(777, all_m_idxs, 5)"
   ]
  },
  {
   "cell_type": "code",
   "execution_count": 303,
   "metadata": {},
   "outputs": [
    {
     "data": {
      "text/html": [
       "<div>\n",
       "<style scoped>\n",
       "    .dataframe tbody tr th:only-of-type {\n",
       "        vertical-align: middle;\n",
       "    }\n",
       "\n",
       "    .dataframe tbody tr th {\n",
       "        vertical-align: top;\n",
       "    }\n",
       "\n",
       "    .dataframe thead th {\n",
       "        text-align: right;\n",
       "    }\n",
       "</style>\n",
       "<table border=\"1\" class=\"dataframe\">\n",
       "  <thead>\n",
       "    <tr style=\"text-align: right;\">\n",
       "      <th></th>\n",
       "      <th>title</th>\n",
       "      <th>genre</th>\n",
       "      <th>movie_quality</th>\n",
       "    </tr>\n",
       "    <tr>\n",
       "      <th>mid</th>\n",
       "      <th></th>\n",
       "      <th></th>\n",
       "      <th></th>\n",
       "    </tr>\n",
       "  </thead>\n",
       "  <tbody>\n",
       "    <tr>\n",
       "      <th>527</th>\n",
       "      <td>Schindler's List (1993)</td>\n",
       "      <td>Drama|War</td>\n",
       "      <td>0.919768</td>\n",
       "    </tr>\n",
       "    <tr>\n",
       "      <th>2028</th>\n",
       "      <td>Saving Private Ryan (1998)</td>\n",
       "      <td>Action|Drama|War</td>\n",
       "      <td>0.881226</td>\n",
       "    </tr>\n",
       "    <tr>\n",
       "      <th>2905</th>\n",
       "      <td>Sanjuro (1962)</td>\n",
       "      <td>Action|Adventure</td>\n",
       "      <td>0.442288</td>\n",
       "    </tr>\n",
       "    <tr>\n",
       "      <th>50</th>\n",
       "      <td>Usual Suspects, The (1995)</td>\n",
       "      <td>Crime|Thriller</td>\n",
       "      <td>0.873108</td>\n",
       "    </tr>\n",
       "    <tr>\n",
       "      <th>318</th>\n",
       "      <td>Shawshank Redemption, The (1994)</td>\n",
       "      <td>Drama</td>\n",
       "      <td>1.000027</td>\n",
       "    </tr>\n",
       "  </tbody>\n",
       "</table>\n",
       "</div>"
      ],
      "text/plain": [
       "                                 title             genre  movie_quality\n",
       "mid                                                                    \n",
       "527            Schindler's List (1993)         Drama|War       0.919768\n",
       "2028        Saving Private Ryan (1998)  Action|Drama|War       0.881226\n",
       "2905                    Sanjuro (1962)  Action|Adventure       0.442288\n",
       "50          Usual Suspects, The (1995)    Crime|Thriller       0.873108\n",
       "318   Shawshank Redemption, The (1994)             Drama       1.000027"
      ]
     },
     "execution_count": 303,
     "metadata": {},
     "output_type": "execute_result"
    }
   ],
   "source": [
    "movies.loc[mids[for_recs_idxs]]"
   ]
  },
  {
   "cell_type": "code",
   "execution_count": 304,
   "metadata": {},
   "outputs": [],
   "source": [
    "against_recs_idxs = against_bias_recs(777, all_m_idxs, 5, exclusive=True)"
   ]
  },
  {
   "cell_type": "code",
   "execution_count": 305,
   "metadata": {},
   "outputs": [
    {
     "data": {
      "text/html": [
       "<div>\n",
       "<style scoped>\n",
       "    .dataframe tbody tr th:only-of-type {\n",
       "        vertical-align: middle;\n",
       "    }\n",
       "\n",
       "    .dataframe tbody tr th {\n",
       "        vertical-align: top;\n",
       "    }\n",
       "\n",
       "    .dataframe thead th {\n",
       "        text-align: right;\n",
       "    }\n",
       "</style>\n",
       "<table border=\"1\" class=\"dataframe\">\n",
       "  <thead>\n",
       "    <tr style=\"text-align: right;\">\n",
       "      <th></th>\n",
       "      <th>title</th>\n",
       "      <th>genre</th>\n",
       "      <th>movie_quality</th>\n",
       "    </tr>\n",
       "    <tr>\n",
       "      <th>mid</th>\n",
       "      <th></th>\n",
       "      <th></th>\n",
       "      <th></th>\n",
       "    </tr>\n",
       "  </thead>\n",
       "  <tbody>\n",
       "    <tr>\n",
       "      <th>2571</th>\n",
       "      <td>Matrix, The (1999)</td>\n",
       "      <td>Action|Sci-Fi|Thriller</td>\n",
       "      <td>0.836911</td>\n",
       "    </tr>\n",
       "    <tr>\n",
       "      <th>593</th>\n",
       "      <td>Silence of the Lambs, The (1991)</td>\n",
       "      <td>Drama|Thriller</td>\n",
       "      <td>0.897762</td>\n",
       "    </tr>\n",
       "    <tr>\n",
       "      <th>1198</th>\n",
       "      <td>Raiders of the Lost Ark (1981)</td>\n",
       "      <td>Action|Adventure</td>\n",
       "      <td>0.935052</td>\n",
       "    </tr>\n",
       "    <tr>\n",
       "      <th>260</th>\n",
       "      <td>Star Wars: Episode IV - A New Hope (1977)</td>\n",
       "      <td>Action|Adventure|Fantasy|Sci-Fi</td>\n",
       "      <td>0.962402</td>\n",
       "    </tr>\n",
       "    <tr>\n",
       "      <th>2762</th>\n",
       "      <td>Sixth Sense, The (1999)</td>\n",
       "      <td>Thriller</td>\n",
       "      <td>1.004761</td>\n",
       "    </tr>\n",
       "  </tbody>\n",
       "</table>\n",
       "</div>"
      ],
      "text/plain": [
       "                                          title  \\\n",
       "mid                                               \n",
       "2571                         Matrix, The (1999)   \n",
       "593            Silence of the Lambs, The (1991)   \n",
       "1198             Raiders of the Lost Ark (1981)   \n",
       "260   Star Wars: Episode IV - A New Hope (1977)   \n",
       "2762                    Sixth Sense, The (1999)   \n",
       "\n",
       "                                genre  movie_quality  \n",
       "mid                                                   \n",
       "2571           Action|Sci-Fi|Thriller       0.836911  \n",
       "593                    Drama|Thriller       0.897762  \n",
       "1198                 Action|Adventure       0.935052  \n",
       "260   Action|Adventure|Fantasy|Sci-Fi       0.962402  \n",
       "2762                         Thriller       1.004761  "
      ]
     },
     "execution_count": 305,
     "metadata": {},
     "output_type": "execute_result"
    }
   ],
   "source": [
    "movies.loc[mids[against_recs_idxs]]"
   ]
  },
  {
   "cell_type": "code",
   "execution_count": 277,
   "metadata": {},
   "outputs": [
    {
     "data": {
      "text/plain": [
       "(6040,)"
      ]
     },
     "execution_count": 277,
     "metadata": {},
     "output_type": "execute_result"
    }
   ],
   "source": [
    "uids.shape"
   ]
  },
  {
   "cell_type": "code",
   "execution_count": null,
   "metadata": {},
   "outputs": [],
   "source": []
  }
 ],
 "metadata": {
  "kernelspec": {
   "display_name": "Python 3",
   "language": "python",
   "name": "python3"
  },
  "language_info": {
   "codemirror_mode": {
    "name": "ipython",
    "version": 3
   },
   "file_extension": ".py",
   "mimetype": "text/x-python",
   "name": "python",
   "nbconvert_exporter": "python",
   "pygments_lexer": "ipython3",
   "version": "3.6.8"
  }
 },
 "nbformat": 4,
 "nbformat_minor": 2
}
